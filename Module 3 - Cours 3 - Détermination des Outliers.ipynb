{
 "cells": [
  {
   "cell_type": "markdown",
   "metadata": {},
   "source": [
    "#  Détermination des Valeurs Aberrantes (Outliers)"
   ]
  },
  {
   "cell_type": "markdown",
   "metadata": {},
   "source": [
    "Lors de l'analyse des données, les jeux de données comportent souvent des irrégularités et des erreurs. Cela peut être des données manquantes ou des données aberrantes ou autres. Savoir traiter ces données permettra de produire une analyse pertinent ou contruire un modèle prédictif accru et efficace.\n",
    "\n",
    "Dans ce cours, nous allons nous interesser aux données ayant des valeurs aberrantes ou les Outliers. \n",
    "\n",
    "Ainsi, on verra :\n",
    "\n",
    "- Ce que c’est qu'une valeur aberrante (Outlier en anglais)\n",
    "- Pourquoi est-ce qu'il important de détecter les outliers\n",
    "- Comment détecter les outliers\n",
    "- Comment réagir face aux outliers\n"
   ]
  },
  {
   "cell_type": "markdown",
   "metadata": {},
   "source": [
    "## Qu’est ce qu’une valeur aberrante ?"
   ]
  },
  {
   "cell_type": "markdown",
   "metadata": {},
   "source": [
    "Une valeur aberrante est une valeur extrême, anormalement différente de la distribution d’une variable. En d’autres termes, la valeur de cette observation diffère grandement des autres valeurs de la même variable.\n",
    "\n",
    "Par exemple, si on prend la variable Salaire d'une population, l’ensemble des valeurs constituent une distribution de la variable Salaire. Imaginons qu’en général, pour cette distribution, les salaires varient entre 1 500 et 3 000. Si on observe un individu avec un salaire à 10 000, c’est une valeur extrême. On dira qu’il s’agit d’un outlier.\n",
    "\n",
    "Dans le même sens, imaginons qu’une personne touche 200 seulement, c’est un salaire anormalement bas. Il s’agit également d’une valeur aberrante."
   ]
  },
  {
   "cell_type": "markdown",
   "metadata": {},
   "source": [
    "## Pourquoi il est important de détecter un Outlier ?"
   ]
  },
  {
   "cell_type": "markdown",
   "metadata": {},
   "source": [
    "Les valeurs aberrantes influencent certains paramètres statistiques, comme la **moyenne**. Elles peuvent tirer la moyenne vers le haut ou vers le bas et cela peut fausser notre compréhension du jeu de données et nous conduire à émettre des hypothèses erronées sur ce dernier. Détecter ses Outliers nous permettra de faire des suppositions plus aguerries.\n",
    "\n",
    "**Plusieurs algorithmes de Machine Learning sont sensibles aux données d’entrainement ainsi qu’à leurs distributions**. Avoir des Outliers dans le Training Set d’un algorithme de Machine Learning peut rendre la phase d’entrainement plus longue et fondé sur des variables biaisées. Par conséquent, le modèle prédictif produit ne sera pas performant, ou du moins, loin d’être optimal.\n",
    "\n"
   ]
  },
  {
   "cell_type": "markdown",
   "metadata": {},
   "source": [
    "## Comment détecter les Outliers ?"
   ]
  },
  {
   "cell_type": "markdown",
   "metadata": {},
   "source": [
    "La détection des outliers peut se faire à l’aide de méthodes de visualisation. Notamment avec les **Box Plot** ou les **Scatter Plot**. \n",
    "Mais ils peuvent aussi être déterminés à l'aide des indicateurs statistiques via la méthode des **z-score** et la méthode basée sur **l'écart interquartiles**"
   ]
  },
  {
   "cell_type": "code",
   "execution_count": 12,
   "metadata": {
    "ExecuteTime": {
     "end_time": "2022-04-10T16:17:17.732012Z",
     "start_time": "2022-04-10T16:17:16.206375Z"
    }
   },
   "outputs": [],
   "source": [
    "## importation des packages\n",
    "import pandas as pd\n",
    "import numpy as np\n",
    "import matplotlib.pyplot as plt"
   ]
  },
  {
   "cell_type": "code",
   "execution_count": 13,
   "metadata": {},
   "outputs": [],
   "source": [
    "data = pd.read_csv('datasets/data.csv')"
   ]
  },
  {
   "cell_type": "code",
   "execution_count": 14,
   "metadata": {
    "ExecuteTime": {
     "end_time": "2022-04-10T16:17:17.800320Z",
     "start_time": "2022-04-10T16:17:17.747643Z"
    }
   },
   "outputs": [
    {
     "data": {
      "text/html": [
       "<div>\n",
       "<style scoped>\n",
       "    .dataframe tbody tr th:only-of-type {\n",
       "        vertical-align: middle;\n",
       "    }\n",
       "\n",
       "    .dataframe tbody tr th {\n",
       "        vertical-align: top;\n",
       "    }\n",
       "\n",
       "    .dataframe thead th {\n",
       "        text-align: right;\n",
       "    }\n",
       "</style>\n",
       "<table border=\"1\" class=\"dataframe\">\n",
       "  <thead>\n",
       "    <tr style=\"text-align: right;\">\n",
       "      <th></th>\n",
       "      <th>product_id</th>\n",
       "      <th>price</th>\n",
       "    </tr>\n",
       "  </thead>\n",
       "  <tbody>\n",
       "    <tr>\n",
       "      <th>0</th>\n",
       "      <td>3847</td>\n",
       "      <td>24.2</td>\n",
       "    </tr>\n",
       "    <tr>\n",
       "      <th>1</th>\n",
       "      <td>3849</td>\n",
       "      <td>34.3</td>\n",
       "    </tr>\n",
       "    <tr>\n",
       "      <th>2</th>\n",
       "      <td>3850</td>\n",
       "      <td>20.8</td>\n",
       "    </tr>\n",
       "    <tr>\n",
       "      <th>3</th>\n",
       "      <td>4032</td>\n",
       "      <td>14.1</td>\n",
       "    </tr>\n",
       "    <tr>\n",
       "      <th>4</th>\n",
       "      <td>4039</td>\n",
       "      <td>46.0</td>\n",
       "    </tr>\n",
       "  </tbody>\n",
       "</table>\n",
       "</div>"
      ],
      "text/plain": [
       "   product_id  price\n",
       "0        3847   24.2\n",
       "1        3849   34.3\n",
       "2        3850   20.8\n",
       "3        4032   14.1\n",
       "4        4039   46.0"
      ]
     },
     "execution_count": 14,
     "metadata": {},
     "output_type": "execute_result"
    }
   ],
   "source": [
    "data.head()"
   ]
  },
  {
   "cell_type": "markdown",
   "metadata": {},
   "source": [
    "### Détection univariée des outliers avec les Box Plot"
   ]
  },
  {
   "cell_type": "markdown",
   "metadata": {},
   "source": [
    "Il s’agit de la méthode la plus simple. Les **Box Plot (Boîtes à Moustaches)** permettent de visualiser la distribution d’une seule variable. Ces graphiques se basent sur la mediane, ainsi que les quartiles inférieur et superieur Q_{1} et Q_{3} respectivement.\n",
    "\n",
    "Un outlier est toute valeur extrême, supérieure ou inférieure à N fois l’écart interquartile IQR. Généralement N vaut N= 1,5."
   ]
  },
  {
   "cell_type": "markdown",
   "metadata": {},
   "source": [
    "<img src=\"images/box-plot2.png\" alt=\"drawing\" width=\"200\" height=\"200\"/>"
   ]
  },
  {
   "cell_type": "code",
   "execution_count": 15,
   "metadata": {
    "ExecuteTime": {
     "end_time": "2022-04-10T16:17:18.485328Z",
     "start_time": "2022-04-10T16:17:17.806136Z"
    }
   },
   "outputs": [
    {
     "data": {
      "text/plain": [
       "<AxesSubplot:>"
      ]
     },
     "execution_count": 15,
     "metadata": {},
     "output_type": "execute_result"
    },
    {
     "data": {
      "image/png": "[encoded data removed]",
      "text/plain": [
       "<Figure size 432x288 with 1 Axes>"
      ]
     },
     "metadata": {},
     "output_type": "display_data"
    }
   ],
   "source": [
    "## Exemple 1\n",
    "# On plot\n",
    "data.boxplot(column =['price'], grid = False) \n"
   ]
  },
  {
   "cell_type": "code",
   "execution_count": 16,
   "metadata": {
    "ExecuteTime": {
     "end_time": "2022-04-10T16:17:23.199258Z",
     "start_time": "2022-04-10T16:17:18.492265Z"
    }
   },
   "outputs": [
    {
     "data": {
      "text/plain": [
       "<AxesSubplot:xlabel='price'>"
      ]
     },
     "execution_count": 16,
     "metadata": {},
     "output_type": "execute_result"
    },
    {
     "data": {
      "image/png": "[encoded data removed]",
      "text/plain": [
       "<Figure size 432x288 with 1 Axes>"
      ]
     },
     "metadata": {},
     "output_type": "display_data"
    }
   ],
   "source": [
    "## Exemple 2\n",
    "import seaborn as sns\n",
    "# on plot\n",
    "sns.set(style=\"whitegrid\") \n",
    "sns.boxplot(x = 'price', data = data) "
   ]
  },
  {
   "cell_type": "markdown",
   "metadata": {},
   "source": [
    "### Détection multivariée des outliers avec les Scatter plot"
   ]
  },
  {
   "cell_type": "markdown",
   "metadata": {},
   "source": [
    "Parfois, on peut être amené à vouloir détecter des valeurs aberrantes en fonction de plusieurs données. Il s’agit alors de détecter les outliers dans une relation entre variables. Cela peut être intéressant pour mettre en évidence une corrélation entre deux features."
   ]
  },
  {
   "cell_type": "code",
   "execution_count": 18,
   "metadata": {
    "ExecuteTime": {
     "end_time": "2022-04-10T16:17:23.828280Z",
     "start_time": "2022-04-10T16:17:23.203167Z"
    }
   },
   "outputs": [
    {
     "data": {
      "image/png": "[encoded data removed]",
      "text/plain": [
       "<Figure size 432x288 with 1 Axes>"
      ]
     },
     "metadata": {},
     "output_type": "display_data"
    }
   ],
   "source": [
    "# On plot\n",
    "plt.scatter(data['price'].index, data['price'].values)\n",
    "plt.axhline(y=100, color='r', linestyle='-')\n",
    "plt.show()"
   ]
  },
  {
   "cell_type": "markdown",
   "metadata": {},
   "source": [
    "Dans cet exemple on remarque que toutes les valeurs supérieures à 100 sont éloignées des valeurs sous cette limite. Elles représentent potentiellement des valeurs aberrantes. "
   ]
  },
  {
   "cell_type": "markdown",
   "metadata": {},
   "source": [
    "### Méthode du z score (supérieur à 2 standard deviation)\n",
    "#### Z score = (Observation - Mean)/standard deviation"
   ]
  },
  {
   "cell_type": "code",
   "execution_count": 19,
   "metadata": {
    "ExecuteTime": {
     "end_time": "2022-04-10T16:17:23.840934Z",
     "start_time": "2022-04-10T16:17:23.835080Z"
    }
   },
   "outputs": [],
   "source": [
    "# On récupère la colonne price sous la forme d'une serie Pandas\n",
    "price = data['price']"
   ]
  },
  {
   "cell_type": "code",
   "execution_count": 20,
   "metadata": {
    "ExecuteTime": {
     "end_time": "2022-04-10T16:17:23.859480Z",
     "start_time": "2022-04-10T16:17:23.845815Z"
    }
   },
   "outputs": [],
   "source": [
    "# On écrit une fonction qui va lister les prix considérés comme outliers\n",
    "outliers=[]\n",
    "def detectOutlier(data):\n",
    "    threshold=3\n",
    "    mean = np.mean(data)\n",
    "    std =np.std(data)\n",
    "    \n",
    "    for i in data:\n",
    "        z_score = (i - mean)/std\n",
    "        if np.abs(z_score) > threshold:\n",
    "            outliers.append(i)\n",
    "    return outliers"
   ]
  },
  {
   "cell_type": "code",
   "execution_count": 21,
   "metadata": {
    "ExecuteTime": {
     "end_time": "2022-04-10T16:17:23.883884Z",
     "start_time": "2022-04-10T16:17:23.863692Z"
    }
   },
   "outputs": [
    {
     "name": "stdout",
     "output_type": "stream",
     "text": [
      "Nombre d'outliers détectés => 14\n",
      "[225.0, 126.5, 176.0, 157.0, 137.0, 217.5, 124.8, 175.0, 191.3, 122.0, 135.0, 116.4, 121.0, 121.0]\n"
     ]
    }
   ],
   "source": [
    "# On observe\n",
    "priceOutliers = detectOutlier(price)\n",
    "print(\"Nombre d'outliers détectés => \" + str(len(priceOutliers)))\n",
    "print(priceOutliers)"
   ]
  },
  {
   "cell_type": "markdown",
   "metadata": {},
   "source": [
    "##  Méthode des interquartiles\n",
    "\n",
    "### 1,5 fois la distance interquartile avant le premier et après le troisième"
   ]
  },
  {
   "cell_type": "code",
   "execution_count": 22,
   "metadata": {
    "ExecuteTime": {
     "end_time": "2022-04-10T16:17:23.893643Z",
     "start_time": "2022-04-10T16:17:23.886837Z"
    }
   },
   "outputs": [],
   "source": [
    "# On ordonne la serie\n",
    "price = sorted(price)"
   ]
  },
  {
   "cell_type": "code",
   "execution_count": 23,
   "metadata": {
    "ExecuteTime": {
     "end_time": "2022-04-10T16:17:23.918039Z",
     "start_time": "2022-04-10T16:17:23.897573Z"
    }
   },
   "outputs": [
    {
     "name": "stdout",
     "output_type": "stream",
     "text": [
      "Q1 => 14.1\n",
      "Q3 => 42.18\n",
      "IQR => 28.08\n"
     ]
    }
   ],
   "source": [
    "# On calcule l'interquartile\n",
    "q1, q3= np.percentile(price,[25,75])\n",
    "iqr = q3 - q1\n",
    "print(\"Q1 => \" + str(q1))\n",
    "print(\"Q3 => \" + str(round(q3,2)))\n",
    "print(\"IQR => \" + str(round(iqr,2)))"
   ]
  },
  {
   "cell_type": "code",
   "execution_count": 24,
   "metadata": {
    "ExecuteTime": {
     "end_time": "2022-04-10T16:17:23.935688Z",
     "start_time": "2022-04-10T16:17:23.920966Z"
    }
   },
   "outputs": [
    {
     "name": "stdout",
     "output_type": "stream",
     "text": [
      "Lower_bound => -28.01\n",
      "Upper_bound => 84.29\n"
     ]
    }
   ],
   "source": [
    "# On calcule les valeurs limite\n",
    "lower_bound = q1 -(1.5 * iqr)\n",
    "upper_bound = q3 +(1.5 * iqr)\n",
    "print(\"Lower_bound => \" + str(round(lower_bound,2)))\n",
    "print(\"Upper_bound => \" + str(round(upper_bound,2)))"
   ]
  },
  {
   "cell_type": "code",
   "execution_count": 25,
   "metadata": {
    "ExecuteTime": {
     "end_time": "2022-04-10T16:17:23.955127Z",
     "start_time": "2022-04-10T16:17:23.937558Z"
    }
   },
   "outputs": [
    {
     "name": "stdout",
     "output_type": "stream",
     "text": [
      "Nombre d'outliers détectés => 32\n",
      "[100.0, 88.4, 225.0, 126.5, 85.6, 176.0, 108.5, 157.0, 104.0, 109.6, 102.3, 137.0, 217.5, 105.0, 105.0, 112.0, 86.8, 92.0, 124.8, 175.0, 191.3, 93.0, 122.0, 114.0, 135.0, 105.6, 116.4, 115.0, 121.0, 99.0, 115.0, 121.0]\n"
     ]
    }
   ],
   "source": [
    "# On cherche les outliers\n",
    "result = data[(data['price'] > upper_bound) | (data['price'] < lower_bound)]\n",
    "# On observe\n",
    "print(\"Nombre d'outliers détectés => \" + str(len(result)))\n",
    "print(list(result['price']))"
   ]
  },
  {
   "cell_type": "markdown",
   "metadata": {},
   "source": [
    "### Comment réagir face aux valeurs aberrantes ?\n",
    "Les valeurs aberrantes sont des observations extrêmes indiquant une situation extraordinaire. Dans ce sens, un outlier n’est pas forcement une valeur impertinente. Pour donner un sens à un outlier, il faut comprendre le contexte métier de la donnée.\n",
    "\n",
    "Par conséquent, **il ne faut pas les supprimer systématiquement avant d’avoir compris leur sens d’apparition dans le jeu de données.**\n",
    "\n",
    "Avant de supprimer ou garder une observation aberrante, posez- vous les questions suivantes:\n",
    "\n",
    "- Est-ce une valeur due à une erreur de mesure ou de collecte d’information ?\n",
    "- Est-ce d’un point de vue métier cette valeur est possible ?\n",
    "- Si je garde cette observation, sera-t-elle bénéfique pour mon modèle prédictif ?"
   ]
  },
  {
   "cell_type": "markdown",
   "metadata": {},
   "source": [
    "### Valeur aberrante due à une erreur de collecte d’information\n",
    "Si en regardant l’information portée par cette valeur aberrante on se rend compte que d’un point de vue sémantique, ce n’est plausible ou logique, il faudra supprimer cette valeur.\n",
    "\n",
    "Comme exemple, prenons un jeu de données contenant des prises de températures d’eau. Si on trouve une valeur de température à 150°C, on se dira que cela est impossible. En effet, l’eau s’évapore à 100°C. Cette valeur à 150°C est donc vide de sens et faudra supprimer cette observation.\n",
    "\n",
    "Par ailleurs, le fait de trouver dans le jeu de données, une observation de température d’eau à 150°C peut être dû à une erreur de saisie de la valeur ou une défaillance du capteur (thermomètre)."
   ]
  }
 ],
 "metadata": {
  "kernelspec": {
   "display_name": "Python 3 (ipykernel)",
   "language": "python",
   "name": "python3"
  },
  "language_info": {
   "codemirror_mode": {
    "name": "ipython",
    "version": 3
   },
   "file_extension": ".py",
   "mimetype": "text/x-python",
   "name": "python",
   "nbconvert_exporter": "python",
   "pygments_lexer": "ipython3",
   "version": "3.9.7"
  },
  "toc": {
   "base_numbering": 1,
   "nav_menu": {},
   "number_sections": true,
   "sideBar": true,
   "skip_h1_title": false,
   "title_cell": "Table of Contents",
   "title_sidebar": "Contents",
   "toc_cell": false,
   "toc_position": {},
   "toc_section_display": true,
   "toc_window_display": false
  },
  "varInspector": {
   "cols": {
    "lenName": 16,
    "lenType": 16,
    "lenVar": 40
   },
   "kernels_config": {
    "python": {
     "delete_cmd_postfix": "",
     "delete_cmd_prefix": "del ",
     "library": "var_list.py",
     "varRefreshCmd": "print(var_dic_list())"
    },
    "r": {
     "delete_cmd_postfix": ") ",
     "delete_cmd_prefix": "rm(",
     "library": "var_list.r",
     "varRefreshCmd": "cat(var_dic_list()) "
    }
   },
   "types_to_exclude": [
    "module",
    "function",
    "builtin_function_or_method",
    "instance",
    "_Feature"
   ],
   "window_display": false
  }
 },
 "nbformat": 4,
 "nbformat_minor": 4
}
